{
 "cells": [
  {
   "cell_type": "code",
   "execution_count": 2,
   "metadata": {},
   "outputs": [],
   "source": [
    "import pandas as pd\n",
    "import numpy as np"
   ]
  },
  {
   "cell_type": "code",
   "execution_count": 4,
   "metadata": {},
   "outputs": [
    {
     "data": {
      "text/plain": [
       "<bound method DataFrame.info of      Age  Gender  Heart rate  Systolic blood pressure  \\\n",
       "0     64  Female        66.0                    160.0   \n",
       "1     21  Female        94.0                     98.0   \n",
       "2     55  Female        64.0                    160.0   \n",
       "3     64  Female        70.0                    120.0   \n",
       "4     55  Female        64.0                    112.0   \n",
       "..   ...     ...         ...                      ...   \n",
       "994   48  Female        61.0                    112.0   \n",
       "995   32  Female        40.0                    179.0   \n",
       "996   63    Male        60.0                    214.0   \n",
       "997   86  Female        60.0                    154.0   \n",
       "998   40    Male        61.0                    160.0   \n",
       "\n",
       "     Diastolic blood pressure  Blood sugar   CK-MB  Troponin    Result  \n",
       "0                        83.0        160.0    1.80     0.012  negative  \n",
       "1                        46.0        296.0    6.75     1.060  positive  \n",
       "2                         NaN        270.0    1.99     0.003  negative  \n",
       "3                        55.0        270.0   13.87     0.122  positive  \n",
       "4                        65.0        300.0    1.08     0.003  negative  \n",
       "..                        ...          ...     ...       ...       ...  \n",
       "994                      58.0        101.0   31.85     0.012  positive  \n",
       "995                      68.0        167.0    9.63     0.004  positive  \n",
       "996                      82.0         85.0    1.21     0.003  negative  \n",
       "997                      81.0        112.0  300.00     1.790  positive  \n",
       "998                      95.0        123.0   11.87     0.030  positive  \n",
       "\n",
       "[999 rows x 9 columns]>"
      ]
     },
     "execution_count": 4,
     "metadata": {},
     "output_type": "execute_result"
    }
   ],
   "source": [
    "df=pd.read_csv(\"Medicaldataset.csv\")\n",
    "df.info"
   ]
  },
  {
   "cell_type": "code",
   "execution_count": 6,
   "metadata": {},
   "outputs": [
    {
     "data": {
      "text/plain": [
       "Age                         0\n",
       "Gender                      0\n",
       "Heart rate                  0\n",
       "Systolic blood pressure     0\n",
       "Diastolic blood pressure    0\n",
       "Blood sugar                 0\n",
       "CK-MB                       0\n",
       "Troponin                    0\n",
       "Result                      0\n",
       "dtype: int64"
      ]
     },
     "execution_count": 6,
     "metadata": {},
     "output_type": "execute_result"
    }
   ],
   "source": [
    "df.isnull().sum()\n",
    "df.fillna(df.mean(numeric_only=True),inplace=True)\n",
    "df.info\n",
    "df.isnull().sum()\n"
   ]
  },
  {
   "cell_type": "code",
   "execution_count": 11,
   "metadata": {},
   "outputs": [
    {
     "ename": "TypeError",
     "evalue": "unhashable type: 'list'",
     "output_type": "error",
     "traceback": [
      "\u001b[0;31m---------------------------------------------------------------------------\u001b[0m",
      "\u001b[0;31mTypeError\u001b[0m                                 Traceback (most recent call last)",
      "Cell \u001b[0;32mIn[11], line 1\u001b[0m\n\u001b[0;32m----> 1\u001b[0m df\u001b[38;5;241m.\u001b[39mreplace({[\u001b[38;5;124m'\u001b[39m\u001b[38;5;124mmale\u001b[39m\u001b[38;5;124m'\u001b[39m]:\u001b[38;5;241m0\u001b[39m,[\u001b[38;5;124m'\u001b[39m\u001b[38;5;124mfemale\u001b[39m\u001b[38;5;124m'\u001b[39m]:\u001b[38;5;241m1\u001b[39m})\n\u001b[1;32m      2\u001b[0m df\u001b[38;5;241m.\u001b[39minfo\n",
      "\u001b[0;31mTypeError\u001b[0m: unhashable type: 'list'"
     ]
    }
   ],
   "source": [
    "df.replace({['male']:0,['female']:1})\n",
    "df.info"
   ]
  },
  {
   "cell_type": "code",
   "execution_count": null,
   "metadata": {},
   "outputs": [],
   "source": [
    "array=np.array([[]])\n",
    "array.reshape(2*8)"
   ]
  },
  {
   "cell_type": "code",
   "execution_count": 9,
   "metadata": {},
   "outputs": [
    {
     "name": "stdout",
     "output_type": "stream",
     "text": [
      "<class 'pandas.core.frame.DataFrame'>\n",
      "RangeIndex: 999 entries, 0 to 998\n",
      "Data columns (total 9 columns):\n",
      " #   Column                    Non-Null Count  Dtype  \n",
      "---  ------                    --------------  -----  \n",
      " 0   Age                       999 non-null    int64  \n",
      " 1   Gender                    999 non-null    object \n",
      " 2   Heart rate                999 non-null    float64\n",
      " 3   Systolic blood pressure   999 non-null    float64\n",
      " 4   Diastolic blood pressure  999 non-null    float64\n",
      " 5   Blood sugar               999 non-null    float64\n",
      " 6   CK-MB                     999 non-null    float64\n",
      " 7   Troponin                  999 non-null    float64\n",
      " 8   Result                    999 non-null    object \n",
      "dtypes: float64(6), int64(1), object(2)\n",
      "memory usage: 70.4+ KB\n"
     ]
    }
   ],
   "source": [
    "newDf=df.copy()\n",
    "newDf.info()"
   ]
  }
 ],
 "metadata": {
  "kernelspec": {
   "display_name": "Python",
   "language": "python",
   "name": "python3"
  },
  "language_info": {
   "codemirror_mode": {
    "name": "ipython",
    "version": 3
   },
   "file_extension": ".py",
   "mimetype": "text/x-python",
   "name": "python",
   "nbconvert_exporter": "python",
   "pygments_lexer": "ipython3",
   "version": "3.12.7"
  }
 },
 "nbformat": 4,
 "nbformat_minor": 2
}
